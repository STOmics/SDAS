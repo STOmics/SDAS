{
 "cells": [
  {
   "cell_type": "code",
   "execution_count": null,
   "id": "e7806c43-c1fc-4b9c-9f83-907a4222a38e",
   "metadata": {},
   "outputs": [],
   "source": [
    "import pandas as pd\n",
    "from warnings import filterwarnings\n",
    "filterwarnings('ignore')\n",
    "from matplotlib import pyplot as plt\n",
    "import numpy as np\n",
    "import math\n",
    "import os, sys, glob, re\n",
    "import time\n",
    "import scanpy as sc\n",
    "import anndata\n",
    "import scipy\n",
    "import time\n",
    "import math\n",
    "import seaborn as sns"
   ]
  },
  {
   "cell_type": "markdown",
   "id": "9b7b3f46-3c45-49b5-9230-ebc54d442868",
   "metadata": {},
   "source": [
    "## Firstly, load h5ad"
   ]
  },
  {
   "cell_type": "code",
   "execution_count": null,
   "id": "9070bbf9-9b38-4d58-aa4c-c89741f7f352",
   "metadata": {},
   "outputs": [],
   "source": [
    "dataDir = './'\n",
    "adata = sc.read_h5ad(dataDir+'/seurat_int_logTotal_10000.h5ad')"
   ]
  },
  {
   "cell_type": "code",
   "execution_count": null,
   "id": "0dd442e5-7e45-4883-a13d-384516ce5da2",
   "metadata": {},
   "outputs": [],
   "source": [
    "adata"
   ]
  },
  {
   "cell_type": "markdown",
   "id": "731d02cc-860b-4f96-8e1a-0af47af2c0f3",
   "metadata": {},
   "source": [
    "## Secondly, clustering with leiden"
   ]
  },
  {
   "cell_type": "code",
   "execution_count": null,
   "id": "8e63f0e0-429a-437f-ae32-7cc6b700727c",
   "metadata": {},
   "outputs": [],
   "source": [
    "%%time\n",
    "sc.pp.pca(adata)\n",
    "sc.pl.pca_variance_ratio(adata, log=True, n_pcs=50, save=\"01.pca_variance_ratio.png\")"
   ]
  },
  {
   "cell_type": "code",
   "execution_count": null,
   "id": "73247dbd-1aba-4dfd-ae42-a62eb048a27e",
   "metadata": {},
   "outputs": [],
   "source": [
    "%%time\n",
    "sc.pp.neighbors(adata, n_pcs=20)\n",
    "sc.tl.umap(adata)"
   ]
  },
  {
   "cell_type": "code",
   "execution_count": null,
   "id": "e8c77f32-4c9b-4c2d-997e-e229302f6fdf",
   "metadata": {},
   "outputs": [],
   "source": [
    "%%time\n",
    "sc.tl.leiden(adata, resolution=0.35, key_added=\"clusters_reso_0.35\")"
   ]
  },
  {
   "cell_type": "code",
   "execution_count": null,
   "id": "24a1c500-5681-4edc-9459-dca39c41cb3b",
   "metadata": {},
   "outputs": [],
   "source": [
    "%%time\n",
    "sc.tl.leiden(adata, resolution=1, key_added=\"clusters_reso_1\")"
   ]
  },
  {
   "cell_type": "code",
   "execution_count": null,
   "id": "10ff694c-0b44-4708-ae95-58079adca8fa",
   "metadata": {},
   "outputs": [],
   "source": [
    "sc.pl.umap(adata, color=['nCount_RNA', 'nFeature_RNA', \"clusters_reso_0.35\"], wspace=0.4, save=\"02-umap-reso0.35.png\")"
   ]
  },
  {
   "cell_type": "code",
   "execution_count": null,
   "id": "6af5cb12-3085-42c9-aa85-c45100a82584",
   "metadata": {},
   "outputs": [],
   "source": [
    "sc.pl.umap(adata, color=['nCount_RNA', 'nFeature_RNA', \"clusters_reso_1\"], wspace=0.4, save=\"02-umap-reso1.png\")"
   ]
  },
  {
   "cell_type": "code",
   "execution_count": null,
   "id": "f3381d0b-a9e3-41c2-9bc9-1551ef9c4a5a",
   "metadata": {},
   "outputs": [],
   "source": [
    "# display the spatial for each sample\n",
    "samples = adata.obs['id'].unique()\n",
    "selected_samples = ['CRCP59_T_2', 'CRCP95_T']\n",
    "for sample in selected_samples:\n",
    "    subset_adata = adata[adata.obs['id'] == sample]\n",
    "    sc.pl.spatial(subset_adata, color=[\"clusters_reso_0.35\"], spot_size=1, show=None, size=1.2, title=f'Sample: {sample}')"
   ]
  },
  {
   "cell_type": "markdown",
   "id": "85a1c773-e6f7-4a9f-8e2b-d798b5b7c069",
   "metadata": {},
   "source": [
    "## Thirdly, display heatmap for marker genes"
   ]
  },
  {
   "cell_type": "code",
   "execution_count": null,
   "id": "2fdc1cfb-196d-44fa-b5ad-77c410fe5d70",
   "metadata": {},
   "outputs": [],
   "source": [
    "# nc_genes from the original paper\n",
    "nc_gene=['CEACAM1','EPCAM','SCD','KRT19','SELENOP','IL1B','KRT18','SPINK1','GPX2','OLFM4','MKI67','TOP2A','PATJ','IGF2R','CXCL14','MS4A1','CXCL8','TRDC','TRAC','CCL5','TIGIT','SPP1','CCR7','CD86','LTB','CXCR5','LYZ','IL7R','CD84','GZMK','ITGAX','LAPTM5','CD69','KLRK1','JCHAIN','IGHA1','IGHG4','PDGFRA','GPM6B','RORA','MYH11','PI16','COL1A1','COL1A2','COL6A3','TPSB2','PCDHA6','EGR1','IGFBP7','PECAM1','NOTCH3','FABP4','GATA2','TIMP3','P4HA3']\n",
    "gene = [item for item in nc_gene if item in adata.var_names]"
   ]
  },
  {
   "cell_type": "code",
   "execution_count": null,
   "id": "7783933e-e8d1-4f39-946d-c66f69ba8e26",
   "metadata": {},
   "outputs": [],
   "source": [
    "len(nc_gene)"
   ]
  },
  {
   "cell_type": "code",
   "execution_count": null,
   "id": "6e916942-9d99-45d8-b944-8349a3cdbe0d",
   "metadata": {},
   "outputs": [],
   "source": [
    "len(gene) # How many markers used in the paper are found in the selected 10000 features? 44 out of 55"
   ]
  },
  {
   "cell_type": "code",
   "execution_count": null,
   "id": "43a5fab6-5d1f-4182-90e3-6c4a0faf1a1c",
   "metadata": {},
   "outputs": [],
   "source": [
    "# the heatmap for the clusters in the origianl paper\n",
    "order=['epi_CEA', 'epi_MKI67', 'epi_normal', 'boundary', 'fiber and cavity', \n",
    "       'immune-infiltrated stroma', 'immune_plasma_cell', 'smooth_muscle_IGFBP5', \n",
    "       'smooth_muscle_RGS5', 'smooth_muscle_DES', 'stroma_ECM', 'stroma_COL1A1', \n",
    "       'stroma_EGR1', 'stroma_vessel', 'stroma_TIMP3']\n",
    "sc.pl.matrixplot(adata, gene, groupby='level2', categories_order=order, standard_scale='var', cmap='inferno', save='_fig1b.pdf')"
   ]
  },
  {
   "cell_type": "code",
   "execution_count": null,
   "id": "0ca205e3-e4fc-41d7-a460-59a7ef8968e4",
   "metadata": {},
   "outputs": [],
   "source": [
    "# the heatmap for the clusters generated by our script\n",
    "cluster_order = ['0','1','2','14','12','11','6','13','9','5','4','3','8','7','10']\n",
    "sc.pl.matrixplot(adata, gene, groupby='clusters_reso_1', categories_order=cluster_order, standard_scale='var', cmap='inferno', save='our_fig1b.pdf')"
   ]
  }
 ],
 "metadata": {
  "kernelspec": {
   "display_name": "QJScanpy",
   "language": "python",
   "name": "qjscanpy"
  },
  "language_info": {
   "codemirror_mode": {
    "name": "ipython",
    "version": 3
   },
   "file_extension": ".py",
   "mimetype": "text/x-python",
   "name": "python",
   "nbconvert_exporter": "python",
   "pygments_lexer": "ipython3",
   "version": "3.9.18"
  }
 },
 "nbformat": 4,
 "nbformat_minor": 5
}
